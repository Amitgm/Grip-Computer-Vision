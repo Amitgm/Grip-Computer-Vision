{
  "nbformat": 4,
  "nbformat_minor": 0,
  "metadata": {
    "colab": {
      "name": "Face_mask_detection.ipynb",
      "provenance": [],
      "collapsed_sections": []
    },
    "kernelspec": {
      "name": "python3",
      "display_name": "Python 3"
    },
    "language_info": {
      "name": "python"
    },
    "gpuClass": "standard"
  },
  "cells": [
    {
      "cell_type": "markdown",
      "source": [
        "**Name - Amit George**\n",
        "\n",
        "**Task 3 - Detection of face mask** \n",
        "\n",
        "**Grip@ The Spark foundation network**\n",
        "\n",
        "**Objective-** **To detect wether the people in the certain dataset are wearing face masks or not.**"
      ],
      "metadata": {
        "id": "W8SaNTr5KFFB"
      }
    },
    {
      "cell_type": "markdown",
      "source": [
        "**Import the libraries**"
      ],
      "metadata": {
        "id": "qMiVqPZUkMZz"
      }
    },
    {
      "cell_type": "code",
      "source": [
        "import os\n",
        "import matplotlib.pyplot as plt\n",
        "import cv2\n",
        "from natsort import natsorted\n",
        "from PIL import Image\n",
        "import glob\n",
        "import shutil\n",
        "import torchvision\n",
        "from torchvision import transforms, datasets, models\n",
        "from IPython.display import HTML\n",
        "from base64 import b64encode\n",
        "from google.colab.patches import cv2_imshow"
      ],
      "metadata": {
        "id": "fmBoK-YDHkms"
      },
      "execution_count": 1,
      "outputs": []
    },
    {
      "cell_type": "markdown",
      "source": [
        "**Using Roboflow to get the image data and its annotations for training. The image dataset is taken from Kaggle**"
      ],
      "metadata": {
        "id": "9ATts9g8sE_S"
      }
    },
    {
      "cell_type": "code",
      "source": [
        "!pip install roboflow\n",
        "from roboflow import Roboflow\n",
        "rf = Roboflow(api_key=\"####################\") # the unique key generated from roboflow is hidden for privacy\n",
        "project = rf.workspace(\"amit-george\").project(\"corona-5vh6d\")\n",
        "dataset = project.version(1).download(\"yolov5\")"
      ],
      "metadata": {
        "id": "RX_cPmR_vyV9"
      },
      "execution_count": null,
      "outputs": []
    },
    {
      "cell_type": "markdown",
      "source": [
        "**Mounting google drive**"
      ],
      "metadata": {
        "id": "3pRD6v8uV5og"
      }
    },
    {
      "cell_type": "code",
      "source": [
        "from google.colab import drive\n",
        "drive.mount('/content/drive')"
      ],
      "metadata": {
        "id": "f8Xyf675V0_r"
      },
      "execution_count": null,
      "outputs": []
    },
    {
      "cell_type": "markdown",
      "source": [
        "**Using the Yolov5 repository and installing its pre-requisites.**"
      ],
      "metadata": {
        "id": "3_qpapxosv2L"
      }
    },
    {
      "cell_type": "code",
      "source": [
        "!git clone https://github.com/ultralytics/yolov5"
      ],
      "metadata": {
        "id": "ORr6O6bhJmPA",
        "colab": {
          "base_uri": "https://localhost:8080/"
        },
        "outputId": "158807c6-ea3b-4da4-fd2a-a12ccad26cee"
      },
      "execution_count": 3,
      "outputs": [
        {
          "output_type": "stream",
          "name": "stdout",
          "text": [
            "fatal: destination path 'yolov5' already exists and is not an empty directory.\n"
          ]
        }
      ]
    },
    {
      "cell_type": "code",
      "source": [
        "!pip3 install -r yolov5/requirements.txt"
      ],
      "metadata": {
        "id": "nDepZp6HJmR8"
      },
      "execution_count": null,
      "outputs": []
    },
    {
      "cell_type": "code",
      "source": [
        "!cp /content/Corona-1/data.yaml /content/yolov5/data/corona-1.yaml # for training "
      ],
      "metadata": {
        "id": "fgYYLebLLdZl"
      },
      "execution_count": 10,
      "outputs": []
    },
    {
      "cell_type": "code",
      "source": [
        "!cp /content/drive/MyDrive/best5.pt /content/ # for moving weights for testing"
      ],
      "metadata": {
        "id": "qKiL2CUYy-lO"
      },
      "execution_count": 7,
      "outputs": []
    },
    {
      "cell_type": "markdown",
      "source": [
        "**Using the pre-trained Yolov5 algorithm to train and test the model, the model is tested with 0.60 confidence level.**"
      ],
      "metadata": {
        "id": "beTQbjkUtSxJ"
      }
    },
    {
      "cell_type": "code",
      "source": [
        "!python yolov5/train.py --img 416 --batch 127 --epochs 250 --data corona-1.yaml --weights yolov5n.pt # using pretrained weights"
      ],
      "metadata": {
        "id": "xw3BYOaLJmU4"
      },
      "execution_count": null,
      "outputs": []
    },
    {
      "cell_type": "code",
      "source": [
        "!python yolov5/train.py --img 416 --batch 150 --epochs 310 --data corona-1.yaml --weights '' --cfg yolov5s.yaml # training from scratch"
      ],
      "metadata": {
        "id": "VWtZFLxAxYVT"
      },
      "execution_count": null,
      "outputs": []
    },
    {
      "cell_type": "code",
      "source": [
        "!python yolov5/detect.py --weights /content/yolov5/runs/train/exp5/weights/best.pt --img 416 --conf 0.60 --source '/content/drive/MyDrive/1071683329-preview.mp4'"
      ],
      "metadata": {
        "id": "FNPjdqAyPc9x"
      },
      "execution_count": null,
      "outputs": []
    },
    {
      "cell_type": "markdown",
      "source": [
        "**Display video of Result**"
      ],
      "metadata": {
        "id": "nA7_-dHc4OB2"
      }
    },
    {
      "cell_type": "code",
      "source": [
        "video_path='/content/sample_data/conf-60-yolov5.s-scratch.mp4'\n",
        "mp4 = open(video_path, \"rb\").read()\n",
        "data_url = \"data:video/mp4;base64,\" + b64encode(mp4).decode()\n",
        "HTML(f\"\"\"\n",
        "<video width=400 controls><source src=\"{data_url}\" type=\"video/mp4\">\n",
        "</video>\"\"\")"
      ],
      "metadata": {
        "id": "n98poR5Hve8u"
      },
      "execution_count": null,
      "outputs": []
    }
  ]
}