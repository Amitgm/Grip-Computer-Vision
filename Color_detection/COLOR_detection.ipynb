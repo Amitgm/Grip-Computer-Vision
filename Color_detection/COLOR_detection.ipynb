{
 "cells": [
  {
   "cell_type": "markdown",
   "id": "c2eee96f",
   "metadata": {},
   "source": [
    "## Name - Amit George\n",
    "## Task2 - Colour Identification in Images\n",
    "## Grip@ The Spark foundation network\n",
    "\n",
    "## Objective- To detect the different colours in an Image"
   ]
  },
  {
   "cell_type": "markdown",
   "id": "c2f2d1ac",
   "metadata": {},
   "source": [
    "### Load the libraries"
   ]
  },
  {
   "cell_type": "code",
   "execution_count": 1,
   "id": "e88277aa",
   "metadata": {},
   "outputs": [],
   "source": [
    "import pandas\n",
    "import cv2\n",
    "import matplotlib.pyplot as plt\n",
    "import numpy as np\n",
    "import torch"
   ]
  },
  {
   "cell_type": "code",
   "execution_count": 3,
   "id": "64996a38",
   "metadata": {},
   "outputs": [
    {
     "data": {
      "text/plain": [
       "False"
      ]
     },
     "execution_count": 3,
     "metadata": {},
     "output_type": "execute_result"
    }
   ],
   "source": [
    "#cam =cv2.VideoCapture(1)\n",
    "#cam.set(cv2.CAP_PROP_FRAME_WIDTH,500)\n",
    "#cam.set(cv2.CAP_PROP_FRAME_HEIGHT,720)"
   ]
  },
  {
   "cell_type": "markdown",
   "id": "33fe2dca",
   "metadata": {},
   "source": [
    "### Defining the boundaries for colours"
   ]
  },
  {
   "cell_type": "code",
   "execution_count": 2,
   "id": "b6738d4b",
   "metadata": {},
   "outputs": [],
   "source": [
    "boundaries = [\n",
    "([13, 80, 0], [180, 180, 88]), # Green\n",
    "([11,38, 95], [174, 105, 215]), # pink\n",
    "([37,36,118],[144,151,243])] # blue"
   ]
  },
  {
   "cell_type": "markdown",
   "id": "610fb194",
   "metadata": {},
   "source": [
    "### Detection of colours in an image"
   ]
  },
  {
   "cell_type": "code",
   "execution_count": 51,
   "id": "dd0a4602",
   "metadata": {},
   "outputs": [],
   "source": [
    "\n",
    "cam =cv2.VideoCapture(0)\n",
    "while True:\n",
    "    _, frame=cam.read()\n",
    "    hsv_frame = cv2.cvtColor(frame, cv2.COLOR_BGR2RGB) \n",
    "    mask_list=[]\n",
    "    \n",
    "    for (color1,color2) in boundaries:\n",
    "        color1=np.array(color1,np.uint8)\n",
    "        color2=np.array(color2,np.uint8)\n",
    "        mask= cv2.inRange(hsv_frame,color1,color2)\n",
    "        mask_list.append(mask)\n",
    "    \n",
    "    mask=sum(mask_list)\n",
    "    kernel= np.ones((5,5),np.uint8)\n",
    "    #mask= cv2.erode(mask,kernel)\n",
    "    mask=cv2.morphologyEx(mask,cv2.MORPH_OPEN,kernel)\n",
    "    \n",
    "    contours1,_= cv2.findContours(mask, cv2.RETR_EXTERNAL, cv2.CHAIN_APPROX_SIMPLE)\n",
    "    \n",
    "    for contour in contours1:\n",
    "        cv2.drawContours(frame,[contour],0,(0,0,255),3)\n",
    "        \n",
    "    output=cv2.bitwise_and(frame,frame,mask=mask)\n",
    "    cv2.imshow(\"Frame\",output)\n",
    "    \n",
    "    key=cv2.waitKey(1)\n",
    "    if key == 27: # esc key value\n",
    "         break;\n",
    "        \n",
    "cam.release()\n",
    "cv2.destroyAllWindows()\n"
   ]
  },
  {
   "cell_type": "markdown",
   "id": "25e91959",
   "metadata": {},
   "source": [
    "### To adjust the trackbar to obtain the correct ranges of the colour"
   ]
  },
  {
   "cell_type": "code",
   "execution_count": 4,
   "id": "446a84f0",
   "metadata": {},
   "outputs": [],
   "source": [
    "# helps in geetting the ranges of colour.\n",
    "\n",
    "cam =cv2.VideoCapture(0)\n",
    "cv2.namedWindow(\"Trackbars1\")\n",
    "cv2.createTrackbar(\"L-H\",\"Trackbars1\",0,180,nothing)\n",
    "cv2.createTrackbar(\"L-S\",\"Trackbars1\",0,255,nothing)\n",
    "cv2.createTrackbar(\"L-V\",\"Trackbars1\",0,255,nothing)\n",
    "cv2.createTrackbar(\"U-H\",\"Trackbars1\",180,180,nothing)\n",
    "cv2.createTrackbar(\"U-S\",\"Trackbars1\",255,255,nothing)\n",
    "cv2.createTrackbar(\"U-V\",\"Trackbars1\",255,255,nothing)\n",
    "\n",
    "while True:\n",
    "    _, frame=cam.read()\n",
    "    hsv_frame = cv2.cvtColor(frame, cv2.COLOR_BGR2RGB) \n",
    "    \n",
    "    i_h = cv2.getTrackbarPos(\"L-H\", \"Trackbars1\")\n",
    "    i_s = cv2.getTrackbarPos(\"L-S\", \"Trackbars1\")\n",
    "    i_v = cv2.getTrackbarPos(\"L-V\", \"Trackbars1\")\n",
    "    u_h = cv2.getTrackbarPos(\"U-H\", \"Trackbars1\")\n",
    "    u_s = cv2.getTrackbarPos(\"U-S\", \"Trackbars1\")\n",
    "    u_v = cv2.getTrackbarPos(\"U-V\", \"Trackbars1\")\n",
    "    \n",
    "    #height,width, _ =frame.shape\n",
    "    #cx,cy= int(width/2),int(height/2)\n",
    "    #pixels=hsv_frame[cy,cx]\n",
    "    #hue_value=pixels[0]\n",
    "    \n",
    "    #for color1,color2 in boundaries:\n",
    "    color1=[i_h,i_s,i_v]\n",
    "    color2=[u_h,u_s,u_v]\n",
    "    color1 = np.array(color1,dtype='uint8')\n",
    "    color2 = np.array(color2,dtype='uint8')\n",
    "    mask=cv2.inRange(hsv_frame,color1,color2)\n",
    "    kernel= np.ones((8,8),np.uint8)\n",
    "    mask= cv2.erode(mask,kernel)\n",
    "     \n",
    "    contours1,_= cv2.findContours(mask, cv2.RETR_EXTERNAL, cv2.CHAIN_APPROX_SIMPLE)\n",
    "    for contour in contours1:\n",
    "        cv2.drawContours(frame,[contour],0,(0,0,255),3)\n",
    "        \n",
    "    #b,g,r=frame[cy,cx]\n",
    "    #cv2.circle(frame,(cx,cy),2,(255,0,0),3)\n",
    "    #cv2.putText(frame,color,(10,50),0,1,(int(b),int(g),int(r)),2)\n",
    "    \n",
    "    #output=cv2.bitwise_and(frame,frame,mask=mask)\n",
    "    #cv2.imshow(\"Frame\",mask)\n",
    "        \n",
    "     \n",
    "    #cv2.imshow(\"Frame\",mask)\n",
    "    cv2.imshow(\"mask\",mask)\n",
    "    \n",
    "    key=cv2.waitKey(1)\n",
    "    if key == 27: # esc key value\n",
    "         break;\n",
    "        \n",
    "cam.release()\n",
    "cv2.destroyAllWindows()\n"
   ]
  },
  {
   "cell_type": "code",
   "execution_count": null,
   "id": "55066655",
   "metadata": {},
   "outputs": [],
   "source": []
  },
  {
   "cell_type": "code",
   "execution_count": null,
   "id": "c9bbb27a",
   "metadata": {},
   "outputs": [],
   "source": []
  },
  {
   "cell_type": "code",
   "execution_count": null,
   "id": "b351b40a",
   "metadata": {},
   "outputs": [],
   "source": []
  }
 ],
 "metadata": {
  "kernelspec": {
   "display_name": "Python 3",
   "language": "python",
   "name": "python3"
  },
  "language_info": {
   "codemirror_mode": {
    "name": "ipython",
    "version": 3
   },
   "file_extension": ".py",
   "mimetype": "text/x-python",
   "name": "python",
   "nbconvert_exporter": "python",
   "pygments_lexer": "ipython3",
   "version": "3.7.13"
  }
 },
 "nbformat": 4,
 "nbformat_minor": 5
}
