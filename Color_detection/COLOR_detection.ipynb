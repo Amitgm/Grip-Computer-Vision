{
 "cells": [
  {
   "cell_type": "markdown",
   "id": "9e658707",
   "metadata": {},
   "source": [
    "## Name - Amit George\n",
    "## Task2 - Colour Identification in Images\n",
    "## Grip@ The Spark foundation network\n",
    "\n",
    "## Objective:\n",
    "\n",
    "### 1) Adjust the HSV tracker bar for the colours in order to obtain the boundary ranges for colours to be detected.\n",
    "\n",
    "### 2)  Green, pink and blue colours are chosen according to their HSV values.\n",
    "\n",
    "### 3) Combine the boundary ranges of all three colours for the filter mask\n",
    "\n",
    "### 4) Use the mask to obtain the contours for the specific three colours\n",
    "\n",
    "### 5) Display the three colours with their bounding boxes in the video."
   ]
  },
  {
   "cell_type": "markdown",
   "id": "ffb55445",
   "metadata": {},
   "source": [
    "### Load the libraries"
   ]
  },
  {
   "cell_type": "code",
   "execution_count": 35,
   "id": "2ab7892e",
   "metadata": {},
   "outputs": [],
   "source": [
    "import pandas\n",
    "import cv2\n",
    "import matplotlib.pyplot as plt\n",
    "import numpy as np\n",
    "import torch"
   ]
  },
  {
   "cell_type": "code",
   "execution_count": 7,
   "id": "64996a38",
   "metadata": {},
   "outputs": [],
   "source": [
    "#cam =cv2.VideoCapture(1)\n",
    "#cam.set(cv2.CAP_PROP_FRAME_WIDTH,500)\n",
    "#cam.set(cv2.CAP_PROP_FRAME_HEIGHT,720)"
   ]
  },
  {
   "cell_type": "markdown",
   "id": "9892df5e",
   "metadata": {},
   "source": [
    "### Defining the boundaries for colours"
   ]
  },
  {
   "cell_type": "code",
   "execution_count": 36,
   "id": "254293e7",
   "metadata": {},
   "outputs": [],
   "source": [
    "boundaries = [\n",
    "([13, 80, 0], [180, 180, 88]), # Green\n",
    "([11,38, 95], [174, 105, 215]), # pink\n",
    "([37,36,118],[144,151,243])] # blue"
   ]
  },
  {
   "cell_type": "markdown",
   "id": "73d36c5b",
   "metadata": {},
   "source": [
    "### Detection of colours in an image"
   ]
  },
  {
   "cell_type": "code",
   "execution_count": null,
   "id": "dd0a4602",
   "metadata": {},
   "outputs": [],
   "source": [
    "\n",
    "cam =cv2.VideoCapture(0)\n",
    "while True:\n",
    "    _, frame=cam.read()\n",
    "    hsv_frame = cv2.cvtColor(frame, cv2.COLOR_BGR2RGB) \n",
    "    mask_list=[]\n",
    "    \n",
    "    for (color1,color2) in boundaries:\n",
    "        color1=np.array(color1,np.uint8)\n",
    "        color2=np.array(color2,np.uint8)\n",
    "        mask= cv2.inRange(hsv_frame,color1,color2)\n",
    "        mask_list.append(mask)\n",
    "    \n",
    "    mask=sum(mask_list)\n",
    "    kernel= np.ones((5,5),np.uint8)\n",
    "    #mask= cv2.erode(mask,kernel)\n",
    "    mask=cv2.morphologyEx(mask,cv2.MORPH_OPEN,kernel)\n",
    "    \n",
    "    contours1,_= cv2.findContours(mask, cv2.RETR_EXTERNAL, cv2.CHAIN_APPROX_SIMPLE)\n",
    "    \n",
    "    for contour in contours1:\n",
    "        cv2.drawContours(frame,[contour],0,(0,0,255),3)\n",
    "        \n",
    "    output=cv2.bitwise_and(frame,frame,mask=mask)\n",
    "    cv2.imshow(\"Frame\",output)\n",
    "    \n",
    "    key=cv2.waitKey(1)\n",
    "    if key == 27: # esc key value\n",
    "         break;\n",
    "        \n",
    "cam.release()\n",
    "cv2.destroyAllWindows()\n"
   ]
  },
  {
   "cell_type": "markdown",
   "id": "e09c5888",
   "metadata": {},
   "source": [
    "### To adjust the trackbar to obtain the correct ranges of the colour"
   ]
  },
  {
   "cell_type": "code",
   "execution_count": null,
   "id": "b39f1806",
   "metadata": {},
   "outputs": [],
   "source": [
    "while True:\n",
    "    _, frame=cam.read()\n",
    "    hsv_frame = cv2.cvtColor(frame,cv2.COLOR_BGR2HSV) \n",
    "    i_h=cv2.getTrackerPos(\"L-H\",\"Trackbars\")\n",
    "    i_s=cv2.getTrackerPos(\"L-S\",\"Trackbars\")\n",
    "    i_v=cv2.getTrackerPos(\"L-V\",\"Trackbars\")\n",
    "    u_h=cv2.getTrackerPos(\"U-H\",\"Trackbars\")\n",
    "    u_s=cv2.getTrackerPos(\"U-S\",\"Trackbars\")\n",
    "    u_v=cv2.getTrackerPos(\"U-V\",\"Trackbars\")\n",
    "    height,width, _ =frame.shape\n",
    "    cx,cy= int(width/2),int(height/2)\n",
    "    pixels=hsv_frame[cy,cx]\n",
    "    hue_value=pixels[0]\n",
    "    color1=[0,50,50]\n",
    "    color2=[255, 153, 255]\n",
    "    color1 = np.array(color1,dtype='uint8')\n",
    "    color2 = np.array(color2,dtype='uint8')\n",
    "        \n",
    "    #b,g,r=frame[cy,cx]\n",
    "    #cv2.circle(frame,(cx,cy),2,(255,0,0),3)\n",
    "    #cv2.putText(frame,color,(10,50),0,1,(int(b),int(g),int(r)),2)\n",
    "    \n",
    "    mask=cv2.inRange(frame,color1,color2)\n",
    "    contours1, hierarchy1 = cv2.findContours(mask, cv2.RETR_EXTERNAL, cv2.CHAIN_APPROX_SIMPLE)\n",
    "    for contour in contours1:\n",
    "      x,y,w,h = cv2.boundingRect(contour)\n",
    "      drawn = cv2.rectangle(frame,(x,y),(x+w,y+h),(0,255,0),1)\n",
    "        \n",
    "    output=cv2.bitwise_and(drawn,drawn,mask=mask)\n",
    "    cv2.imshow(\"Frame\",output)  \n",
    "    key=cv2.waitKey(1)\n",
    "    if key == 27: # esc key value\n",
    "        break;\n",
    "        \n",
    "cam.release()\n",
    "cv2.destroyAllWindows()"
   ]
  },
  {
   "cell_type": "code",
   "execution_count": null,
   "id": "b351b40a",
   "metadata": {},
   "outputs": [],
   "source": []
  }
 ],
 "metadata": {
  "kernelspec": {
   "display_name": "Python 3",
   "language": "python",
   "name": "python3"
  },
  "language_info": {
   "codemirror_mode": {
    "name": "ipython",
    "version": 3
   },
   "file_extension": ".py",
   "mimetype": "text/x-python",
   "name": "python",
   "nbconvert_exporter": "python",
   "pygments_lexer": "ipython3",
   "version": "3.7.13"
  }
 },
 "nbformat": 4,
 "nbformat_minor": 5
}
